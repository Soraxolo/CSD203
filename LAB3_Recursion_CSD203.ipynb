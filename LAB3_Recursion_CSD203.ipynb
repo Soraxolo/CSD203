{
 "cells": [
  {
   "cell_type": "code",
   "execution_count": 1,
   "id": "6101de54-4a53-41b0-bdee-f6fd55282113",
   "metadata": {},
   "outputs": [],
   "source": [
    "# WRITING EXERCISE"
   ]
  },
  {
   "cell_type": "code",
   "execution_count": 2,
   "id": "b3ac214a-5dcc-49d6-b296-49cff9b1222b",
   "metadata": {},
   "outputs": [
    {
     "data": {
      "text/plain": [
       "{1: [1],\n",
       " 2: [2, 1],\n",
       " 3: [3, 10, 5, 16, 8, 4, 2, 1],\n",
       " 4: [4, 2, 1],\n",
       " 5: [5, 16, 8, 4, 2, 1],\n",
       " 6: [6, 3, 10, 5, 16, 8, 4, 2, 1],\n",
       " 7: [7, 22, 11, 34, 17, 52, 26, 13, 40, 20, 10, 5, 16, 8, 4, 2, 1],\n",
       " 8: [8, 4, 2, 1],\n",
       " 9: [9, 28, 14, 7, 22, 11, 34, 17, 52, 26, 13, 40, 20, 10, 5, 16, 8, 4, 2, 1]}"
      ]
     },
     "execution_count": 2,
     "metadata": {},
     "output_type": "execute_result"
    }
   ],
   "source": [
    "#1\n",
    "def puzzle_sequence(n):\n",
    "    sequence = [n]\n",
    "    while n != 1:\n",
    "        if n % 2 == 0:\n",
    "            n = n // 2\n",
    "        else:\n",
    "            n = 3 * n + 1\n",
    "        sequence.append(n)\n",
    "    return sequence\n",
    "sequences = {n: puzzle_sequence(n) for n in range(1, 10)}\n",
    "sequences\n",
    "\n"
   ]
  },
  {
   "cell_type": "code",
   "execution_count": 3,
   "id": "b46fb4c4-71d5-48a1-b513-3e985ad44ca7",
   "metadata": {},
   "outputs": [
    {
     "data": {
      "text/plain": [
       "(-1, 120, 1)"
      ]
     },
     "execution_count": 3,
     "metadata": {},
     "output_type": "execute_result"
    }
   ],
   "source": [
    "#2\n",
    "def puzzle(base, limit):\n",
    "    if base > limit:\n",
    "        return -1\n",
    "    elif base == limit:\n",
    "        return 1\n",
    "    else:\n",
    "        return base * puzzle(base + 1, limit)\n",
    "result_a = puzzle(14, 10)\n",
    "result_b = puzzle(4, 7)\n",
    "result_c = puzzle(0, 0)\n",
    "\n",
    "result_a, result_b, result_c\n"
   ]
  },
  {
   "cell_type": "code",
   "execution_count": 4,
   "id": "afdf63d8-8d52-4f06-ae37-c0c2705ceaba",
   "metadata": {},
   "outputs": [
    {
     "name": "stdout",
     "output_type": "stream",
     "text": [
      "0\n",
      "1\n",
      "2\n",
      "3\n"
     ]
    }
   ],
   "source": [
    "#3\n",
    "def show(n):\n",
    "    if n > 0:\n",
    "        show(n//10)\n",
    "    print(n%10)\n",
    "        \n",
    "show(123)"
   ]
  },
  {
   "cell_type": "code",
   "execution_count": 5,
   "id": "23948129-5e21-4124-a03e-8a0cf048327a",
   "metadata": {},
   "outputs": [
    {
     "name": "stdout",
     "output_type": "stream",
     "text": [
      "0\n",
      "1\n",
      "3\n",
      "4\n"
     ]
    }
   ],
   "source": [
    "#4\n",
    "def show(n):\n",
    "    if n > 0:\n",
    "        show(n//10)\n",
    "    print(n%10)\n",
    "        \n",
    "show(134)"
   ]
  },
  {
   "cell_type": "code",
   "execution_count": 6,
   "id": "20c5dab3-fb6c-4ef4-a401-b03a7efa9e89",
   "metadata": {},
   "outputs": [
    {
     "name": "stdout",
     "output_type": "stream",
     "text": [
      "0\n",
      "1\n",
      "4\n",
      "5\n"
     ]
    }
   ],
   "source": [
    "#5\n",
    "def show(n):\n",
    "    if n > 0:\n",
    "        show(n//10)\n",
    "    print(n%10)\n",
    "        \n",
    "show(145)"
   ]
  },
  {
   "cell_type": "code",
   "execution_count": 7,
   "id": "565ee2de-e27e-4d4e-bdf8-d56734c0a827",
   "metadata": {},
   "outputs": [
    {
     "name": "stdout",
     "output_type": "stream",
     "text": [
      "2.283333333333333\n"
     ]
    }
   ],
   "source": [
    "#6\n",
    "def sum_recursive(n):\n",
    "    if n == 1:\n",
    "        return 1\n",
    "    return 1/n + sum_recursive(n-1)\n",
    "result = sum_recursive(5)  \n",
    "print(result)"
   ]
  },
  {
   "cell_type": "code",
   "execution_count": 8,
   "id": "731383f5-6d4e-47a1-afd7-37745575fd56",
   "metadata": {},
   "outputs": [
    {
     "name": "stdout",
     "output_type": "stream",
     "text": [
      "mystery(2, 0): 0\n",
      "mystery(3, 11): 33\n",
      "mystery(3, 7): Result = 21 Number of calls = 4\n"
     ]
    }
   ],
   "source": [
    "#7\n",
    "def mystery(a, b):\n",
    "    if b == 0:\n",
    "        return 0\n",
    "    elif b % 2 == 0:\n",
    "        return mystery(a + a, b // 2)\n",
    "    else:\n",
    "        return mystery(a + a, b // 2) + a\n",
    "def mystery_with_call_count(a, b):\n",
    "    global call_count\n",
    "    call_count = 0\n",
    "\n",
    "    def helper(a, b):\n",
    "        global call_count\n",
    "        call_count += 1\n",
    "        if b == 0:\n",
    "            return 0\n",
    "        elif b % 2 == 0:\n",
    "            return helper(a + a, b // 2)\n",
    "        else:\n",
    "            return helper(a + a, b // 2) + a\n",
    "\n",
    "    result = helper(a, b)\n",
    "    return result, call_count\n",
    "\n",
    "\n",
    "print(\"mystery(2, 0):\", mystery(2, 0))\n",
    "print(\"mystery(3, 11):\", mystery(3, 11))\n",
    "\n",
    "result, calls = mystery_with_call_count(3, 7)\n",
    "print(\"mystery(3, 7): Result =\", result, \"Number of calls =\", calls)\n"
   ]
  },
  {
   "cell_type": "code",
   "execution_count": 11,
   "id": "f58cfded-b108-4de3-8ba6-ac01e4a6d670",
   "metadata": {},
   "outputs": [
    {
     "name": "stdout",
     "output_type": "stream",
     "text": [
      "6\n",
      "4\n",
      "2\n",
      "2\n",
      "1\n",
      "1\n",
      "4\n",
      "3\n",
      "1\n",
      "1\n",
      "3\n",
      "6\n"
     ]
    }
   ],
   "source": [
    "def ex237(n):\n",
    "    if n <= 0: \n",
    "        return\n",
    "    print(n)\n",
    "    ex237(n-2)\n",
    "    ex237(n-3)\n",
    "    print(n)\n",
    "ex237(6)\n"
   ]
  },
  {
   "cell_type": "code",
   "execution_count": 16,
   "id": "1a83d3c5-6e74-4c07-bbd7-4f3508e76ce5",
   "metadata": {},
   "outputs": [
    {
     "name": "stdout",
     "output_type": "stream",
     "text": [
      "ex238(6): 311361142246\n"
     ]
    }
   ],
   "source": [
    "#9\n",
    "def ex238(n):\n",
    "    if n <= 0:\n",
    "        return \"\"\n",
    "    return ex238(n - 3) + str(n) + ex238(n - 2) + str(n)\n",
    "result = ex238(6)\n",
    "print(\"ex238(6):\", result)\n"
   ]
  },
  {
   "cell_type": "code",
   "execution_count": 17,
   "id": "74468bc5-5eb5-4d0d-9a30-995e59014799",
   "metadata": {},
   "outputs": [
    {
     "name": "stdout",
     "output_type": "stream",
     "text": [
      "Move disk 1 from A to C\n",
      "Move disk 2 from A to B\n",
      "Move disk 1 from C to B\n",
      "Move disk 3 from A to C\n",
      "Move disk 1 from B to A\n",
      "Move disk 2 from B to C\n",
      "Move disk 1 from A to C\n",
      "Total moves required for 3 disks: 7\n"
     ]
    }
   ],
   "source": [
    "#10\n",
    "def towers_of_hanoi(n, source, target, auxiliary):\n",
    "    if n == 0:\n",
    "        return 0\n",
    "    moves = 0\n",
    "    moves += towers_of_hanoi(n-1, source, auxiliary, target)\n",
    "    print(f\"Move disk {n} from {source} to {target}\")\n",
    "    moves += 1\n",
    "    moves += towers_of_hanoi(n-1, auxiliary, target, source)\n",
    "    return moves\n",
    "n = 3\n",
    "moves_required = towers_of_hanoi(n, 'A', 'C', 'B')\n",
    "print(f\"Total moves required for {n} disks: {moves_required}\")\n"
   ]
  },
  {
   "cell_type": "code",
   "execution_count": null,
   "id": "98fbe632-5686-4187-a5e8-2d41c9b9d537",
   "metadata": {},
   "outputs": [],
   "source": [
    "#Practice exercises"
   ]
  },
  {
   "cell_type": "code",
   "execution_count": 18,
   "id": "5e4a4a73-30f0-40fc-aa34-6c6e4e5f950b",
   "metadata": {},
   "outputs": [],
   "source": [
    "#1\n",
    "def sum_recursive(n):\n",
    "    if n == 1:\n",
    "        return 1\n",
    "    else:\n",
    "        return n + sum_recursive(n-1)\n"
   ]
  },
  {
   "cell_type": "code",
   "execution_count": 19,
   "id": "502f3a67-785b-4147-82c1-116181cf7f75",
   "metadata": {},
   "outputs": [],
   "source": [
    "#2\n",
    "def find_min_recursive(a, n):\n",
    "    if n == 1:\n",
    "        return a[0]\n",
    "    else:\n",
    "        return min(a[n-1], find_min_recursive(a, n-1))\n"
   ]
  },
  {
   "cell_type": "code",
   "execution_count": 21,
   "id": "17e83563-30e3-4dde-ad66-3e59c3d7df94",
   "metadata": {},
   "outputs": [],
   "source": [
    "#3\n",
    "def find_sum_recursive(a, n):\n",
    "    if n == 0:\n",
    "        return a[0]\n",
    "    else:\n",
    "        return a[n - 1] + find_sum_recursive(a, n - 1)\n"
   ]
  },
  {
   "cell_type": "code",
   "execution_count": 22,
   "id": "b8529c61-d6ce-42cd-99c7-8793c2c11a9a",
   "metadata": {},
   "outputs": [],
   "source": [
    "#4\n",
    "def is_palindrome_recursive(a, start, end):\n",
    "    if start >= end:\n",
    "        return 1\n",
    "    if a[start] != a[end]:\n",
    "        return 0\n",
    "    return is_palindrome_recursive(a, start + 1, end - 1)\n",
    "def is_palindrome(a, n):\n",
    "    return is_palindrome_recursive(a, 0, n-1)\n"
   ]
  },
  {
   "cell_type": "code",
   "execution_count": 23,
   "id": "e3f3c577-4ec3-4d43-a252-2a0840b6b9e6",
   "metadata": {},
   "outputs": [],
   "source": [
    "#5\n",
    "def binary_search_recursive(a, target, low, high):\n",
    "    if low > high:\n",
    "        return False\n",
    "    mid = (low + high) // 2\n",
    "    if a[mid] == target:\n",
    "        return True\n",
    "    elif target < a[mid]:\n",
    "        return binary_search_recursive(a, target, low, mid - 1)\n",
    "    else:\n",
    "        return binary_search_recursive(a, target, mid + 1, high)\n",
    "def binary_search(a, n, target):\n",
    "    return binary_search_recursive(a, target, 0, n - 1)\n"
   ]
  },
  {
   "cell_type": "code",
   "execution_count": 24,
   "id": "9e581653-da9e-4adc-be85-8de53631aaca",
   "metadata": {},
   "outputs": [],
   "source": [
    "#6\n",
    "def gcd(m, n):\n",
    "    if n == 0:\n",
    "        return m\n",
    "    else:\n",
    "        return gcd(n, m % n)\n"
   ]
  },
  {
   "cell_type": "code",
   "execution_count": 25,
   "id": "ef77a756-0627-43c6-8b1d-f129b9bfbc3f",
   "metadata": {},
   "outputs": [],
   "source": [
    "#7\n",
    "def power(x,n):\n",
    "    if n==0:\n",
    "        return 1\n",
    "    else:\n",
    "        return x*power(x,n-1)"
   ]
  },
  {
   "cell_type": "code",
   "execution_count": 26,
   "id": "9d433eb1-8cae-4ffc-919e-9a10ea4be33d",
   "metadata": {},
   "outputs": [],
   "source": [
    "#8\n",
    "def fact(n):\n",
    "    if n <= 1:\n",
    "        return 1\n",
    "    else:\n",
    "        return n * fact(n - 1)\n"
   ]
  },
  {
   "cell_type": "code",
   "execution_count": 27,
   "id": "6cbbb64c-dc0c-488d-8f32-1ecd82c21770",
   "metadata": {},
   "outputs": [],
   "source": [
    "#9\n",
    "def fib(n):\n",
    "    if n<=2:\n",
    "        return 1\n",
    "    else:\n",
    "        return fib(n-1)+fib(n-2)"
   ]
  },
  {
   "cell_type": "code",
   "execution_count": null,
   "id": "12ee8830-be31-4cc4-83b5-25feb19c7bf9",
   "metadata": {},
   "outputs": [],
   "source": [
    "#10\n",
    "def add_reciprocals(n):\n",
    "    if n == 1:\n",
    "        return 1.0\n",
    "    else:\n",
    "        return 1.0/n + add_reciprocals(n-1)\n"
   ]
  },
  {
   "cell_type": "code",
   "execution_count": 28,
   "id": "38025fb8-df67-46e9-81a6-edb90d6e6783",
   "metadata": {},
   "outputs": [],
   "source": [
    "#11\n",
    "def stirling_first_kind(n, k):\n",
    "    if n == k == 0:\n",
    "        return 1\n",
    "    if n > 0 and k == 0:\n",
    "        return 0\n",
    "    if n == 0 and k > 0:\n",
    "        return 0\n",
    "    if k > n:\n",
    "        return 0\n",
    "    return stirling_first_kind(n-1, k-1) - n * stirling_first_kind(n-1, k)"
   ]
  },
  {
   "cell_type": "code",
   "execution_count": 29,
   "id": "d958de25-e854-4f0a-900b-b8cb1646e7a8",
   "metadata": {},
   "outputs": [
    {
     "name": "stdout",
     "output_type": "stream",
     "text": [
      "2\n"
     ]
    }
   ],
   "source": [
    "#12\n",
    "class TreeNode:\n",
    "    def __init__(self, value=0, left=None, right=None):\n",
    "        self.value = value\n",
    "        self.left = left\n",
    "        self.right = right\n",
    "def tree_height(node):\n",
    "    if node is None:\n",
    "        return -1\n",
    "    left_height = tree_height(node.left)\n",
    "    right_height = tree_height(node.right)\n",
    "    return max(left_height, right_height) + 1\n",
    "root = TreeNode(1)\n",
    "root.left = TreeNode(2)\n",
    "root.right = TreeNode(3)\n",
    "root.left.left = TreeNode(4)\n",
    "root.right.left = TreeNode(5)\n",
    "root.right.right = TreeNode(6)\n",
    "print(tree_height(root))\n"
   ]
  },
  {
   "cell_type": "code",
   "execution_count": 30,
   "id": "0ea8ed67-d27c-48c9-aa92-7b9b46428ba6",
   "metadata": {},
   "outputs": [
    {
     "name": "stdout",
     "output_type": "stream",
     "text": [
      "6\n"
     ]
    }
   ],
   "source": [
    "#13\n",
    "class TreeNode:\n",
    "    def __init__(self, value=0, left=None, right=None):\n",
    "        self.value = value\n",
    "        self.left = left\n",
    "        self.right = right\n",
    "def tree_size(node):\n",
    "    if node is None:\n",
    "        return 0\n",
    "    return tree_size(node.left) + tree_size(node.right) + 1\n",
    "root = TreeNode(1)\n",
    "root.left = TreeNode(2)\n",
    "root.right = TreeNode(3)\n",
    "root.left.left = TreeNode(4)\n",
    "root.right.left = TreeNode(5)\n",
    "root.right.right = TreeNode(6)\n",
    "print(tree_size(root))\n"
   ]
  }
 ],
 "metadata": {
  "kernelspec": {
   "display_name": "Python 3 (ipykernel)",
   "language": "python",
   "name": "python3"
  },
  "language_info": {
   "codemirror_mode": {
    "name": "ipython",
    "version": 3
   },
   "file_extension": ".py",
   "mimetype": "text/x-python",
   "name": "python",
   "nbconvert_exporter": "python",
   "pygments_lexer": "ipython3",
   "version": "3.10.9"
  }
 },
 "nbformat": 4,
 "nbformat_minor": 5
}
