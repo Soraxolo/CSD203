{
 "cells": [
  {
   "cell_type": "code",
   "execution_count": 1,
   "id": "05ad28dc-ab50-40e8-828d-5dd92b03b7f3",
   "metadata": {},
   "outputs": [],
   "source": [
    "class Node: \n",
    "    def __init__(self, data = None, next_node = None):\n",
    "        self.data = data\n",
    "        self.next = next_node"
   ]
  },
  {
   "cell_type": "code",
   "execution_count": 57,
   "id": "dd0cc110-35ff-4ab1-8975-47a9be4841a3",
   "metadata": {},
   "outputs": [],
   "source": [
    "class SingleLinkList:\n",
    "    def __init__(self):\n",
    "        self.head = None\n",
    "        self.size = 0\n",
    "\n",
    "    def __len__(self):\n",
    "        return self.size\n",
    "\n",
    "    def __repr__(self):\n",
    "        return \"<Linklist: size:\" + str(self.size) + \">\"\n",
    "\n",
    "#add to head\n",
    "    def add_to_head(self, key):\n",
    "        new_node = Node(key)\n",
    "        if self.head == None:\n",
    "            self.head = new_node\n",
    "            self.size += 1\n",
    "        else:\n",
    "            new_node.next = self.head\n",
    "            self.head = new_node\n",
    "            self.size += 1\n",
    "\n",
    "#add to tail\n",
    "    def add_to_tail(self, key):\n",
    "        new_node = Node(key)\n",
    "        if self.head is None:\n",
    "            self.head = new_node\n",
    "        else:\n",
    "            tmp = self.head\n",
    "            while tmp.next:\n",
    "                tmp = tmp.next\n",
    "            tmp.next = new_node\n",
    "        self.size += 1\n",
    "\n",
    "#add after\n",
    "    def add_after(self, p, x):\n",
    "        new_node = Node(x)\n",
    "        tmp = self.head\n",
    "        while tmp:\n",
    "            if tmp.data == p:\n",
    "                new_node.next = tmp.next\n",
    "                tmp.next = new_node\n",
    "                break\n",
    "            tmp = tmp.next\n",
    "        else:\n",
    "             print(f\"Node with value {p} not found.\")\n",
    "\n",
    "#traverse\n",
    "    def traverse(self):\n",
    "        tmp = self.head\n",
    "        while tmp:\n",
    "            print(tmp.data, end = \" \")\n",
    "            tmp = tmp.next\n",
    "\n",
    "#delete from head\n",
    "    def delete_from_head(self):\n",
    "        tmp = self.head\n",
    "        if self.head == None:\n",
    "            return None\n",
    "        else:\n",
    "            self.head = tmp.next\n",
    "            self.size -= 1\n",
    "\n",
    "#delete from tail\n",
    "    def delete_from_tail(self):\n",
    "        tmp = self.head\n",
    "        if self.head == None:\n",
    "            return None\n",
    "        while  tmp.next.next:\n",
    "            tmp = tmp.next\n",
    "        tmp.next = None\n",
    "\n",
    "#delete after\n",
    "    def delete_after(self,p):\n",
    "        tmp = self.head\n",
    "        if self.head == None:\n",
    "            return None\n",
    "        while tmp.next != None:\n",
    "            if tmp.data == p:\n",
    "                if tmp.next == None:\n",
    "                    print(\"There is no node after the node with data\", p)\n",
    "                    return None\n",
    "                else:\n",
    "                    deleted_node = tmp.next\n",
    "                    tmp.next = tmp.next.next\n",
    "                    return deleted_node.data\n",
    "            tmp = tmp.next\n",
    "\n",
    "        print(\"Node with data\", p, \"not found in the list.\")\n",
    "        return None\n",
    "\n",
    "#delete del- delele the first node whose info is equal to x.\n",
    "    def delete_del(self, x):\n",
    "        tmp = self.head\n",
    "        if self.head == None:\n",
    "            return None\n",
    "        if self.head.data == x:\n",
    "            deleted_node = self.head\n",
    "            self.head = self.head.next\n",
    "            return deleted_node.data\n",
    "\n",
    "        tmp = self.head\n",
    "        while tmp.next != None:\n",
    "            if tmp.next.data == x:\n",
    "                deleted_node = tmp.next\n",
    "                tmp.next = tmp.next.next  # Bypass the deleted node\n",
    "                return deleted_node.data\n",
    "            tmp = tmp.next\n",
    "\n",
    "        print(f\"Node with value {x} not found in the list.\")\n",
    "        return None\n",
    "\n",
    "#def search\n",
    "    def search(self, key):\n",
    "        if self.head == None:\n",
    "            print(\"Link list empty, can not search value\")\n",
    "            return None\n",
    "        else:\n",
    "            tmp = self.head\n",
    "            while tmp:\n",
    "                if tmp.data == key:\n",
    "                    print(\"Finded the data same key:\", tmp.data)\n",
    "                    return True\n",
    "                tmp = tmp.next\n",
    "            print(\"Not exist key in the link list\")\n",
    "            return False\n",
    "\n",
    "#def count\n",
    "    def count(self):\n",
    "       return self.size\n",
    "\n",
    "#def del (i)\n",
    "    def delete_node(self, position):\n",
    "        if self.head == None:\n",
    "            return\n",
    "        index = 0\n",
    "        current = self.head\n",
    "        while current.next and index < position:\n",
    "            previous = current\n",
    "            current = current.next\n",
    "            index += 1\n",
    "        if index < position:\n",
    "            print(\"\\nIndex is out of range.\")\n",
    "        elif index == 0:\n",
    "            self.head = self.head.next\n",
    "        else:\n",
    "            previous.next = current.next\n",
    "            \n",
    "#def sort\n",
    "    def sort(self):\n",
    "        for i in range(self.size -1, 0, -1):\n",
    "           tmp = self.head\n",
    "           for j in range(i):\n",
    "                if tmp.data > tmp.next.data:\n",
    "                   temp = tmp.data\n",
    "                   tmp.data = tmp.next.data\n",
    "                   tmp.next.data = temp\n",
    "                tmp = tmp.next\n",
    "\n",
    "#def del(p)\n",
    "    def delete_node1(self, p):\n",
    "    \n",
    "        if self.head is None:\n",
    "            return\n",
    "\n",
    "        \n",
    "        if self.head.data == p:\n",
    "            self.head = self.head.next\n",
    "            return\n",
    "\n",
    "       \n",
    "        tmp = self.head\n",
    "\n",
    "       \n",
    "        while tmp.next is not None and tmp.next.data != p:\n",
    "            tmp = tmp.next\n",
    "\n",
    "        \n",
    "        if tmp.next is None:\n",
    "            print(\"Node with value\", p, \"not found.\")\n",
    "            return\n",
    "\n",
    "        \n",
    "        tmp.next = tmp.next.next\n",
    "\n",
    "#def toArray\n",
    "    def to_Array(self):\n",
    "        tmp = self.head\n",
    "        arr = []\n",
    "        arr.append(self.head.data)\n",
    "        while tmp.next is not None:\n",
    "            tmp = tmp.next\n",
    "            arr.append(tmp.data)\n",
    "            \n",
    "        return arr\n",
    "\n",
    "#def Merge two ordered singly linked lists of integers into one ordered list\n",
    "    def mergeLists(head1, head2):\n",
    "        if head1 is None:\n",
    "            return head2\n",
    "        if head2 is None:\n",
    "            return head1\n",
    "\n",
    "        if head1.data < head2.data:\n",
    "            head1.next = SingleLinkList.mergeLists(head1.next, head2)\n",
    "            return head1\n",
    "        else:\n",
    "            head2.next = SingleLinkList.mergeLists(head1, head2.next)\n",
    "            return head2\n",
    "\n",
    "#def add before\n",
    "    def add_before(self, p, x):\n",
    "        new_node = Node(x)\n",
    "\n",
    "        if self.head is None:\n",
    "            print(\"List is empty.\")\n",
    "            return\n",
    "\n",
    "    \n",
    "        if self.head.data == p:\n",
    "            new_node.next = self.head\n",
    "            self.head = new_node\n",
    "            return\n",
    "\n",
    "    '\n",
    "        tmp = self.head\n",
    "        while tmp.next is not None and tmp.next.data != p:\n",
    "            tmp = tmp.next\n",
    "\n",
    "   \n",
    "        if tmp.next is None:\n",
    "            print(f\"Node with value {p} not found.\")\n",
    "            return\n",
    "\n",
    "   \n",
    "        new_node.next = tmp.next\n",
    "        tmp.next = new_node\n",
    "\n",
    "#Attach a singly linked list to the end of another singly linked list.\n",
    "    def attach_list(self, another_list):\n",
    "        if self.head is None:\n",
    "            self.head = another_list.head\n",
    "        else:\n",
    "            tmp = self.head\n",
    "            while tmp.next:\n",
    "                tmp = tmp.next\n",
    "            tmp.next = another_list.head\n",
    "        self.size += another_list.size\n",
    "\n",
    "#def max\n",
    "    def max(self):\n",
    "        tmp = self.head\n",
    "        max_value = tmp.data\n",
    "        while tmp:\n",
    "            if tmp.data > max_value:\n",
    "                max_value = tmp.data\n",
    "            tmp = tmp.next\n",
    "        return max_value\n",
    "\n",
    "#def min\n",
    "    def min(self):\n",
    "        tmp = self.head\n",
    "        min_value = tmp.data\n",
    "        while tmp:\n",
    "            if tmp.data < min_value:\n",
    "                min_value = tmp.data\n",
    "            tmp = tmp.next\n",
    "        return min_value\n",
    "\n",
    "#def sum\n",
    "    def sum(self):\n",
    "        total = 0\n",
    "        tmp = self.head\n",
    "        while tmp:\n",
    "            total += tmp.data\n",
    "            tmp =tmp.next\n",
    "        return total   \n",
    "\n",
    "#def avg\n",
    "    def avg(self):\n",
    "        return self.sum() / self.size\n",
    "    \n",
    "#def sorted\n",
    "    def is_sorted(self):\n",
    "        if self.head is None or self.head.next is None:\n",
    "            \n",
    "            return True\n",
    "\n",
    "        current = self.head\n",
    "        while current.next:\n",
    "            if current.data > current.next.data:\n",
    "               \n",
    "                return False\n",
    "            current = current.next\n",
    "\n",
    "        return True\n",
    "\n",
    "#def insert\n",
    "    def insert(self, x):\n",
    "        new_node = Node(x)\n",
    "\n",
    "        \n",
    "        if self.head is None or self.head.data >= x:\n",
    "            new_node.next = self.head\n",
    "            self.head = new_node\n",
    "        else:\n",
    "            \n",
    "            current = self.head\n",
    "            while current.next is not None and current.next.data < x:\n",
    "                current = current.next\n",
    "\n",
    "           \n",
    "            new_node.next = current.next\n",
    "            current.next = new_node\n",
    "\n",
    "        self.size += 1\n",
    "\n",
    "#def reverse\n",
    "    def reverse(self):\n",
    "        previous = None\n",
    "        current = self.head\n",
    "        while current:\n",
    "            next_node = current.next  \n",
    "            current.next = previous   \n",
    "            previous = current        \n",
    "            current = next_node\n",
    "        self.head = previous   \n",
    "\n",
    "#def 25. Check whether two singly linked list have the same contents.\n",
    "    def are_equal(list1, list2):\n",
    "        current1 = list1.head\n",
    "        current2 = list2.head\n",
    "\n",
    "        while current1 and current2:\n",
    "            if current1.data != current2.data:\n",
    "                return False\n",
    "            current1 = current1.next\n",
    "            current2 = current2.next\n",
    "\n",
    "        \n",
    "        return current1 is None and current2 is None\n",
    "\n",
    "\n",
    "    def printList(self):\n",
    "        current = self.head\n",
    "        while current:\n",
    "            print(current.data, end=\" -> \")\n",
    "            current = current.next\n",
    "        print(\"None\")\n",
    "            \n",
    "            \n",
    "        \n",
    "        \n",
    "\n",
    "        \n",
    "        \n",
    "    \n",
    "        \n",
    "            \n",
    "        \n",
    "        \n",
    "        \n",
    "    \n",
    "        \n",
    "     \n"
   ]
  },
  {
   "cell_type": "code",
   "execution_count": 6,
   "id": "e3e2c4b1-54f4-45bb-9a3b-f0a7e35ba4ed",
   "metadata": {},
   "outputs": [
    {
     "name": "stdout",
     "output_type": "stream",
     "text": [
      "6 -> 2 -> 1 -> None\n"
     ]
    }
   ],
   "source": [
    "#add to head\n",
    "linklist1 = SingleLinkList()\n",
    "linklist1.add_to_head(1)\n",
    "linklist1.add_to_head(2)\n",
    "linklist1.add_to_head(6)\n",
    "linklist1.printList()\n"
   ]
  },
  {
   "cell_type": "code",
   "execution_count": 8,
   "id": "9490cd40-29c0-49d7-a008-4d48bfd644f3",
   "metadata": {},
   "outputs": [
    {
     "name": "stdout",
     "output_type": "stream",
     "text": [
      "3 -> 4 -> None\n"
     ]
    }
   ],
   "source": [
    "#add to tail\n",
    "linklist1 = SingleLinkList()\n",
    "linklist1.add_to_tail(3)\n",
    "linklist1.add_to_tail(4)\n",
    "linklist1.printList()"
   ]
  },
  {
   "cell_type": "code",
   "execution_count": 10,
   "id": "8769ce02-b83e-4487-a5a6-a8524c63812d",
   "metadata": {},
   "outputs": [
    {
     "name": "stdout",
     "output_type": "stream",
     "text": [
      "Original List:\n",
      "6 -> 2 -> 1 -> 3 -> 4 -> None\n",
      "List after adding 2 before 4:\n",
      "6 -> 2 -> 4 -> 1 -> 3 -> 4 -> None\n"
     ]
    }
   ],
   "source": [
    "#add after\n",
    "linklist1 = SingleLinkList()\n",
    "linklist1.add_to_head(1)\n",
    "linklist1.add_to_head(2)\n",
    "linklist1.add_to_head(6)\n",
    "linklist1.add_to_tail(3)\n",
    "linklist1.add_to_tail(4)\n",
    "print(\"Original List:\")\n",
    "linklist1.printList()\n",
    "linklist1.add_after(2, 4)\n",
    "print(\"List after adding 4 after 2:\")\n",
    "linklist1.printList()\n"
   ]
  },
  {
   "cell_type": "code",
   "execution_count": 13,
   "id": "6f42e0b2-a21b-4f3e-a125-ee4e023b5822",
   "metadata": {},
   "outputs": [
    {
     "name": "stdout",
     "output_type": "stream",
     "text": [
      "6 2 1 3 4 6 -> 2 -> 1 -> 3 -> 4 -> None\n"
     ]
    }
   ],
   "source": [
    "#traverse\n",
    "linklist1 = SingleLinkList()\n",
    "linklist1.add_to_head(1)\n",
    "linklist1.add_to_head(2)\n",
    "linklist1.add_to_head(6)\n",
    "linklist1.add_to_tail(3)\n",
    "linklist1.add_to_tail(4)\n",
    "linklist1.traverse()\n"
   ]
  },
  {
   "cell_type": "code",
   "execution_count": 15,
   "id": "94fe69f8-0fe4-4c14-b0c3-7ab81b9f148e",
   "metadata": {},
   "outputs": [
    {
     "name": "stdout",
     "output_type": "stream",
     "text": [
      "Original List:\n",
      "6 -> 2 -> 1 -> 3 -> 4 -> None\n",
      "List after delete:\n",
      "2 -> 1 -> 3 -> 4 -> None\n"
     ]
    }
   ],
   "source": [
    "#delete from head\n",
    "linklist1 = SingleLinkList()\n",
    "linklist1.add_to_head(1)\n",
    "linklist1.add_to_head(2)\n",
    "linklist1.add_to_head(6)\n",
    "linklist1.add_to_tail(3)\n",
    "linklist1.add_to_tail(4)\n",
    "print(\"Original List:\")\n",
    "linklist1.printList()\n",
    "print(\"List after delete:\")\n",
    "linklist1.delete_from_head()\n",
    "linklist1.printList()"
   ]
  },
  {
   "cell_type": "code",
   "execution_count": 16,
   "id": "ddb32cfd-8ecf-4a1d-bb9d-108b01e456f8",
   "metadata": {},
   "outputs": [
    {
     "name": "stdout",
     "output_type": "stream",
     "text": [
      "Original List:\n",
      "6 -> 2 -> 1 -> 3 -> 4 -> None\n",
      "List after delete:\n",
      "6 -> 2 -> 1 -> 3 -> None\n"
     ]
    }
   ],
   "source": [
    "#delete from tail\n",
    "linklist1 = SingleLinkList()\n",
    "linklist1.add_to_head(1)\n",
    "linklist1.add_to_head(2)\n",
    "linklist1.add_to_head(6)\n",
    "linklist1.add_to_tail(3)\n",
    "linklist1.add_to_tail(4)\n",
    "print(\"Original List:\")\n",
    "linklist1.printList()\n",
    "print(\"List after delete:\")\n",
    "linklist1.delete_from_tail()\n",
    "linklist1.printList()"
   ]
  },
  {
   "cell_type": "code",
   "execution_count": 17,
   "id": "3adb9239-6567-4c3d-abf1-79dcf8d03f8e",
   "metadata": {},
   "outputs": [
    {
     "name": "stdout",
     "output_type": "stream",
     "text": [
      "Original List:\n",
      "6 -> 2 -> 1 -> 3 -> 4 -> None\n",
      "List after delete:\n",
      "6 -> 2 -> 3 -> 4 -> None\n"
     ]
    }
   ],
   "source": [
    "#delete after\n",
    "linklist1 = SingleLinkList()\n",
    "linklist1.add_to_head(1)\n",
    "linklist1.add_to_head(2)\n",
    "linklist1.add_to_head(6)\n",
    "linklist1.add_to_tail(3)\n",
    "linklist1.add_to_tail(4)\n",
    "print(\"Original List:\")\n",
    "linklist1.printList()\n",
    "print(\"List after delete:\")\n",
    "linklist1.delete_after(2)\n",
    "linklist1.printList()"
   ]
  },
  {
   "cell_type": "code",
   "execution_count": 23,
   "id": "d408d33c-5a15-4f98-8941-5fc71222d05d",
   "metadata": {},
   "outputs": [
    {
     "name": "stdout",
     "output_type": "stream",
     "text": [
      "Initial List:\n",
      "6 -> 2 -> 1 -> 3 -> 4 -> None\n",
      "\n",
      "Deleting 6:\n",
      "2 -> 1 -> 3 -> 4 -> None\n"
     ]
    }
   ],
   "source": [
    "#delete del- delele the first node whose info is equal to x.\n",
    "linklist1 = SingleLinkList()\n",
    "linklist1.add_to_head(1)\n",
    "linklist1.add_to_head(2)\n",
    "linklist1.add_to_head(6)\n",
    "linklist1.add_to_tail(3)\n",
    "linklist1.add_to_tail(4)\n",
    "print(\"Initial List:\")\n",
    "linklist1.printList()\n",
    "print(\"\\nDeleting 6:\")\n",
    "linklist1.delete_del(6)\n",
    "linklist1.printList()"
   ]
  },
  {
   "cell_type": "code",
   "execution_count": 26,
   "id": "c4abbb3f-6eb5-4f07-bcdd-e7e3433f0ce9",
   "metadata": {
    "scrolled": true
   },
   "outputs": [
    {
     "name": "stdout",
     "output_type": "stream",
     "text": [
      "Finded the data same key: 2\n",
      "6 2 1 3 4 "
     ]
    }
   ],
   "source": [
    "#def search\n",
    "linklist1 = SingleLinkList()\n",
    "linklist1.add_to_head(1)\n",
    "linklist1.add_to_head(2)\n",
    "linklist1.add_to_head(6)\n",
    "linklist1.add_to_tail(3)\n",
    "linklist1.add_to_tail(4)\n",
    "linklist1.search(2)\n",
    "linklist1.traverse()"
   ]
  },
  {
   "cell_type": "code",
   "execution_count": 27,
   "id": "e70acfb6-2e86-4e62-a589-8bc184525dcc",
   "metadata": {},
   "outputs": [
    {
     "data": {
      "text/plain": [
       "5"
      ]
     },
     "execution_count": 27,
     "metadata": {},
     "output_type": "execute_result"
    }
   ],
   "source": [
    "#def count\n",
    "linklist1 = SingleLinkList()\n",
    "linklist1.add_to_head(1)\n",
    "linklist1.add_to_head(2)\n",
    "linklist1.add_to_head(6)\n",
    "linklist1.add_to_tail(3)\n",
    "linklist1.add_to_tail(4)\n",
    "linklist1.count()"
   ]
  },
  {
   "cell_type": "code",
   "execution_count": 32,
   "id": "c8e90ca8-b0bc-413b-95d0-d3ccaf88535e",
   "metadata": {
    "scrolled": true
   },
   "outputs": [
    {
     "name": "stdout",
     "output_type": "stream",
     "text": [
      "Initial List:\n",
      "6 -> 2 -> 1 -> 3 -> 4 -> None\n",
      "\n",
      "Deleting node at position 2:\n",
      "6 -> 2 -> 3 -> 4 -> None\n"
     ]
    }
   ],
   "source": [
    "#def del- delete an i-th node on the list. Besure that such a node exists.\n",
    "linklist1 = SingleLinkList()\n",
    "linklist1.add_to_head(1)\n",
    "linklist1.add_to_head(2)\n",
    "linklist1.add_to_head(6)\n",
    "linklist1.add_to_tail(3)\n",
    "linklist1.add_to_tail(4)\n",
    "print(\"Initial List:\")\n",
    "linklist1.printList()\n",
    "print(\"\\nDeleting node at position 2:\")\n",
    "linklist1.delete_node(2)\n",
    "linklist1.printList()"
   ]
  },
  {
   "cell_type": "code",
   "execution_count": 33,
   "id": "acea2b77-6318-4486-9e78-6725efe7feec",
   "metadata": {},
   "outputs": [
    {
     "name": "stdout",
     "output_type": "stream",
     "text": [
      "Original List:\n",
      "6 -> 2 -> 1 -> 3 -> 4 -> None\n",
      "List sort:\n",
      "1 -> 2 -> 3 -> 4 -> 6 -> None\n"
     ]
    }
   ],
   "source": [
    "#def sort\n",
    "linklist1 = SingleLinkList()\n",
    "linklist1.add_to_head(1)\n",
    "linklist1.add_to_head(2)\n",
    "linklist1.add_to_head(6)\n",
    "linklist1.add_to_tail(3)\n",
    "linklist1.add_to_tail(4)\n",
    "print(\"Original List:\")\n",
    "linklist1.printList()\n",
    "print(\"List sort:\")\n",
    "linklist1.sort()\n",
    "linklist1.printList()"
   ]
  },
  {
   "cell_type": "code",
   "execution_count": 34,
   "id": "922bc70a-4521-4af1-a713-73e46b5e33db",
   "metadata": {},
   "outputs": [
    {
     "name": "stdout",
     "output_type": "stream",
     "text": [
      "Initial List:\n",
      "6 -> 2 -> 1 -> 3 -> 4 -> None\n",
      "\n",
      "Deleting 2:\n",
      "6 -> 1 -> 3 -> 4 -> None\n"
     ]
    }
   ],
   "source": [
    "#def del(p) - delete node p if it exists in the list.\n",
    "linklist1 = SingleLinkList()\n",
    "linklist1.add_to_head(1)\n",
    "linklist1.add_to_head(2)\n",
    "linklist1.add_to_head(6)\n",
    "linklist1.add_to_tail(3)\n",
    "linklist1.add_to_tail(4)\n",
    "print(\"Initial List:\")\n",
    "linklist1.printList()\n",
    "print(\"\\nDeleting 2:\")\n",
    "linklist1.delete_node1(2)\n",
    "linklist1.printList()"
   ]
  },
  {
   "cell_type": "code",
   "execution_count": 35,
   "id": "db1cb412-6d0a-4eeb-bf9c-dc0dc1514571",
   "metadata": {},
   "outputs": [
    {
     "data": {
      "text/plain": [
       "[6, 2, 1, 3, 4]"
      ]
     },
     "execution_count": 35,
     "metadata": {},
     "output_type": "execute_result"
    }
   ],
   "source": [
    "#def toArray()\n",
    "linklist1 = SingleLinkList()\n",
    "linklist1.add_to_head(1)\n",
    "linklist1.add_to_head(2)\n",
    "linklist1.add_to_head(6)\n",
    "linklist1.add_to_tail(3)\n",
    "linklist1.add_to_tail(4)\n",
    "linklist1.to_Array()"
   ]
  },
  {
   "cell_type": "code",
   "execution_count": 46,
   "id": "c475821f-3fdb-4ed7-a291-0a35c8b6f974",
   "metadata": {},
   "outputs": [
    {
     "name": "stdout",
     "output_type": "stream",
     "text": [
      "List 1:\n",
      "1 2 8 \n",
      "List 2:\n",
      "4 5 6 \n",
      "Merged List:\n",
      "1 2 4 5 6 8 "
     ]
    }
   ],
   "source": [
    "#Merge two ordered singly linked lists of integers into one ordered list.\n",
    "list1 = SingleLinkList()\n",
    "list1.add_to_tail(1)\n",
    "list1.add_to_tail(2)\n",
    "list1.add_to_tail(8)\n",
    "\n",
    "\n",
    "list2 = SingleLinkList()\n",
    "list2.add_to_tail(4)\n",
    "list2.add_to_tail(5)\n",
    "list2.add_to_tail(6)\n",
    "\n",
    "\n",
    "print(\"List 1:\")\n",
    "list1.traverse()\n",
    "print(\"\\nList 2:\")\n",
    "list2.traverse()\n",
    "merged_head = SingleLinkList.mergeLists(list1.head, list2.head)\n",
    "\n",
    "\n",
    "merged_list = SingleLinkList()\n",
    "merged_list.head = merged_head\n",
    "\n",
    "\n",
    "print(\"\\nMerged List:\")\n",
    "merged_list.traverse()\n"
   ]
  },
  {
   "cell_type": "code",
   "execution_count": 47,
   "id": "eefdc564-83df-4c29-ad2a-d9c5c2b6e3ab",
   "metadata": {},
   "outputs": [
    {
     "name": "stdout",
     "output_type": "stream",
     "text": [
      "Original List:\n",
      "6 2 1 3 4 List after adding 2 before 4:\n",
      "6 2 1 3 2 4 "
     ]
    }
   ],
   "source": [
    "#def addBefore(p, x)\n",
    "linklist1 = SingleLinkList()\n",
    "linklist1.add_to_head(1)\n",
    "linklist1.add_to_head(2)\n",
    "linklist1.add_to_head(6)\n",
    "linklist1.add_to_tail(3)\n",
    "linklist1.add_to_tail(4)\n",
    "print(\"Original List:\")\n",
    "linklist1.traverse()\n",
    "\n",
    "linklist1.add_before(4, 2)\n",
    "\n",
    "print(\"List after adding 2 before 4:\")\n",
    "linklist1.traverse()\n",
    "list1 = SingleLinkList()\n",
    "list2 = SingleLinkList()"
   ]
  },
  {
   "cell_type": "code",
   "execution_count": 50,
   "id": "5ec144c4-8ea8-4dd3-a04d-767d2632d1ee",
   "metadata": {},
   "outputs": [
    {
     "name": "stdout",
     "output_type": "stream",
     "text": [
      "1 2 3 4 "
     ]
    }
   ],
   "source": [
    "#Attach a singly linked list to the end of another singly linked list.\n",
    "list1 = SingleLinkList()\n",
    "list2 = SingleLinkList()\n",
    "\n",
    "\n",
    "list1.add_to_tail(1)\n",
    "list1.add_to_tail(2)\n",
    "list2.add_to_tail(3)\n",
    "list2.add_to_tail(4)\n",
    "\n",
    "\n",
    "list1.attach_list(list2)\n",
    "list1.traverse()"
   ]
  },
  {
   "cell_type": "code",
   "execution_count": 53,
   "id": "b3cbc54b-970d-425d-b742-3f542ad35cd4",
   "metadata": {},
   "outputs": [
    {
     "name": "stdout",
     "output_type": "stream",
     "text": [
      "6\n",
      "6 2 1 3 4 "
     ]
    }
   ],
   "source": [
    "#def max()\n",
    "linklist1 = SingleLinkList()\n",
    "linklist1.add_to_head(1)\n",
    "linklist1.add_to_head(2)\n",
    "linklist1.add_to_head(6)\n",
    "linklist1.add_to_tail(3)\n",
    "linklist1.add_to_tail(4)\n",
    "print(linklist1.max())\n"
   ]
  },
  {
   "cell_type": "code",
   "execution_count": 54,
   "id": "2a9e47c0-4b14-4fd9-830f-fed6a0ca5602",
   "metadata": {},
   "outputs": [
    {
     "name": "stdout",
     "output_type": "stream",
     "text": [
      "1\n"
     ]
    }
   ],
   "source": [
    "#def min()\n",
    "linklist1 = SingleLinkList()\n",
    "linklist1.add_to_head(1)\n",
    "linklist1.add_to_head(2)\n",
    "linklist1.add_to_head(6)\n",
    "linklist1.add_to_tail(3)\n",
    "linklist1.add_to_tail(4)\n",
    "print(linklist1.min())\n"
   ]
  },
  {
   "cell_type": "code",
   "execution_count": 55,
   "id": "d18f4d5b-7fce-49dc-9d18-66c44b6ede00",
   "metadata": {},
   "outputs": [
    {
     "name": "stdout",
     "output_type": "stream",
     "text": [
      "16\n"
     ]
    }
   ],
   "source": [
    "#def sum()\n",
    "linklist1 = SingleLinkList()\n",
    "linklist1.add_to_head(1)\n",
    "linklist1.add_to_head(2)\n",
    "linklist1.add_to_head(6)\n",
    "linklist1.add_to_tail(3)\n",
    "linklist1.add_to_tail(4)\n",
    "print(linklist1.sum())"
   ]
  },
  {
   "cell_type": "code",
   "execution_count": 58,
   "id": "96eae3be-49dd-4f36-ba7e-6c6579ca0de3",
   "metadata": {},
   "outputs": [
    {
     "name": "stdout",
     "output_type": "stream",
     "text": [
      "3.2\n"
     ]
    }
   ],
   "source": [
    "#def avg()\n",
    "linklist1 = SingleLinkList()\n",
    "linklist1.add_to_head(1)\n",
    "linklist1.add_to_head(2)\n",
    "linklist1.add_to_head(6)\n",
    "linklist1.add_to_tail(3)\n",
    "linklist1.add_to_tail(4)\n",
    "print(linklist1.avg())"
   ]
  },
  {
   "cell_type": "code",
   "execution_count": 60,
   "id": "5d2375c5-bb53-4905-96fc-1baecc286ae1",
   "metadata": {},
   "outputs": [
    {
     "name": "stdout",
     "output_type": "stream",
     "text": [
      "Is List1 sorted? True\n",
      "Is List2 sorted? False\n"
     ]
    }
   ],
   "source": [
    "#def sorted()\n",
    "list1 = SingleLinkList()\n",
    "list1.add_to_tail(1)\n",
    "list1.add_to_tail(2)\n",
    "list1.add_to_tail(3)\n",
    "\n",
    "print(\"Is List1 sorted?\", list1.is_sorted())\n",
    "\n",
    "list2 = SingleLinkList()\n",
    "list2.add_to_tail(3)\n",
    "list2.add_to_tail(2)\n",
    "list2.add_to_tail(1)\n",
    "\n",
    "print(\"Is List2 sorted?\", list2.is_sorted())"
   ]
  },
  {
   "cell_type": "code",
   "execution_count": 61,
   "id": "d81b2400-c260-41ec-8e35-90bd0cfdae5d",
   "metadata": {},
   "outputs": [
    {
     "name": "stdout",
     "output_type": "stream",
     "text": [
      "Sorted List after insertions:\n",
      "1 2 3 4 5 "
     ]
    }
   ],
   "source": [
    "#def insert(x)\n",
    "list1 = SingleLinkList()\n",
    "list1.insert(3)\n",
    "list1.insert(1)\n",
    "list1.insert(2)\n",
    "list1.insert(5)\n",
    "list1.insert(4)\n",
    "\n",
    "print(\"Sorted List after insertions:\")\n",
    "list1.traverse()"
   ]
  },
  {
   "cell_type": "code",
   "execution_count": 62,
   "id": "fd2614db-ef37-46ef-b2d6-deca60445543",
   "metadata": {},
   "outputs": [
    {
     "name": "stdout",
     "output_type": "stream",
     "text": [
      "Original List:\n",
      "1 2 3 \n",
      "Reversed List:\n",
      "3 2 1 "
     ]
    }
   ],
   "source": [
    "#Reverse a singly linked list using only one pass through the list.\n",
    "list1 = SingleLinkList()\n",
    "list1.add_to_tail(1)\n",
    "list1.add_to_tail(2)\n",
    "list1.add_to_tail(3)\n",
    "\n",
    "print(\"Original List:\")\n",
    "list1.traverse()\n",
    "\n",
    "list1.reverse()\n",
    "\n",
    "print(\"\\nReversed List:\")\n",
    "list1.traverse()"
   ]
  },
  {
   "cell_type": "code",
   "execution_count": 63,
   "id": "d0305007-1dfb-492b-af87-e79768af729d",
   "metadata": {},
   "outputs": [
    {
     "name": "stdout",
     "output_type": "stream",
     "text": [
      "Are the two lists equal? True\n",
      "1 2 3 1 2 3 "
     ]
    }
   ],
   "source": [
    "#Check whether two singly linked list have the same contents.\n",
    "list1 = SingleLinkList()\n",
    "list2 = SingleLinkList()\n",
    "\n",
    "\n",
    "list1.add_to_tail(1)\n",
    "list1.add_to_tail(2)\n",
    "list1.add_to_tail(3)\n",
    "\n",
    "list2.add_to_tail(1)\n",
    "list2.add_to_tail(2)\n",
    "list2.add_to_tail(3)\n",
    "\n",
    "print(\"Are the two lists equal?\", SingleLinkList.are_equal(list1, list2))\n",
    "list1.traverse()\n",
    "list2.traverse()"
   ]
  },
  {
   "cell_type": "code",
   "execution_count": null,
   "id": "d1ecd7ce-b90c-4524-a1a5-5d62d91504c2",
   "metadata": {},
   "outputs": [],
   "source": []
  }
 ],
 "metadata": {
  "kernelspec": {
   "display_name": "Python 3 (ipykernel)",
   "language": "python",
   "name": "python3"
  },
  "language_info": {
   "codemirror_mode": {
    "name": "ipython",
    "version": 3
   },
   "file_extension": ".py",
   "mimetype": "text/x-python",
   "name": "python",
   "nbconvert_exporter": "python",
   "pygments_lexer": "ipython3",
   "version": "3.10.13"
  }
 },
 "nbformat": 4,
 "nbformat_minor": 5
}
