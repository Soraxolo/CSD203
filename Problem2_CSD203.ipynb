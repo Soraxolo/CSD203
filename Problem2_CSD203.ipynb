{
 "cells": [
  {
   "cell_type": "code",
   "execution_count": 4,
   "id": "2d9e05bc-6082-4d85-bc58-bdfbb52cbf83",
   "metadata": {},
   "outputs": [],
   "source": [
    "def get_alphabetic_and_4_scale_grade(decimal_grade):\n",
    "    if decimal_grade >= 8.5 :\n",
    "        return 'A', 4.0\n",
    "    elif decimal_grade >= 7.0:\n",
    "        return 'B', 3.0\n",
    "    elif decimal_grade >= 5.5:\n",
    "        return 'C', 2.0\n",
    "    elif decimal_grade >= 4.0:\n",
    "        return 'D', 1.0\n",
    "    else:\n",
    "        return 'F', 0.0"
   ]
  },
  {
   "cell_type": "code",
   "execution_count": 5,
   "id": "96d5c264-1567-4161-8d39-4ca692a302ac",
   "metadata": {},
   "outputs": [],
   "source": [
    "def input_grade():\n",
    "    while True:\n",
    "        try:\n",
    "            grade = float(input(\"Enter the grade (0-10): \"))\n",
    "            if 0 <= grade <= 10:\n",
    "                return grade\n",
    "            else:\n",
    "                print(\"Grade must be between 0 and 10. Please try again.\")\n",
    "        except ValueError:\n",
    "            print(\"Invalid input. Please enter a number.\")"
   ]
  },
  {
   "cell_type": "code",
   "execution_count": 7,
   "id": "74e32784-6fcd-4685-ade8-2fd2bebef6b4",
   "metadata": {},
   "outputs": [
    {
     "name": "stdin",
     "output_type": "stream",
     "text": [
      "Enter the grade (0-10):  3.9\n"
     ]
    },
    {
     "name": "stdout",
     "output_type": "stream",
     "text": [
      "Alphabetic Grade: F, 4.0 Scale Grade: 0.0\n"
     ]
    }
   ],
   "source": [
    "decimal_grade = input_grade()\n",
    "alphabetic_grade, scale_grade = get_alphabetic_and_4_scale_grade(decimal_grade)\n",
    "print(f\"Alphabetic Grade: {alphabetic_grade}, 4.0 Scale Grade: {scale_grade}\")"
   ]
  },
  {
   "cell_type": "code",
   "execution_count": null,
   "id": "571962ce-234e-4c8f-8415-711967672098",
   "metadata": {},
   "outputs": [],
   "source": []
  }
 ],
 "metadata": {
  "kernelspec": {
   "display_name": "Python 3 (ipykernel)",
   "language": "python",
   "name": "python3"
  },
  "language_info": {
   "codemirror_mode": {
    "name": "ipython",
    "version": 3
   },
   "file_extension": ".py",
   "mimetype": "text/x-python",
   "name": "python",
   "nbconvert_exporter": "python",
   "pygments_lexer": "ipython3",
   "version": "3.10.11"
  }
 },
 "nbformat": 4,
 "nbformat_minor": 5
}
