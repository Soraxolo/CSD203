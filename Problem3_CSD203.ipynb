{
 "cells": [
  {
   "cell_type": "code",
   "execution_count": 4,
   "id": "228ae0a2-92a0-42fd-a274-f716cf009195",
   "metadata": {},
   "outputs": [],
   "source": [
    "def input_array():\n",
    "    try:\n",
    "        return list(map(int, input(\"Enter the numbers separated by space: \").split()))\n",
    "    except ValueError:\n",
    "        print(\"Invalid input. Please enter integers only.\")\n",
    "        return None"
   ]
  },
  {
   "cell_type": "code",
   "execution_count": 5,
   "id": "2ead401c-b82a-4507-8cc4-31006dd2a412",
   "metadata": {},
   "outputs": [],
   "source": [
    "def find_unique_numbers_in_order(numbers):\n",
    "    unique_numbers = []\n",
    "    for num in numbers:\n",
    "        if num not in unique_numbers:\n",
    "            unique_numbers.append(num)\n",
    "    return unique_numbers"
   ]
  },
  {
   "cell_type": "code",
   "execution_count": 6,
   "id": "a96fc3d5-d26d-4053-88b5-425daa9896e4",
   "metadata": {},
   "outputs": [
    {
     "name": "stdin",
     "output_type": "stream",
     "text": [
      "Enter the numbers separated by space:  6 8 5 4 6 8 9 1 4 9 12\n"
     ]
    },
    {
     "name": "stdout",
     "output_type": "stream",
     "text": [
      "Unique numbers in the order they appeared: 6 8 5 4 9 1 12\n"
     ]
    }
   ],
   "source": [
    "numbers = input_array()\n",
    "if numbers is not None:\n",
    "    unique_numbers_in_order = find_unique_numbers_in_order(numbers)\n",
    "    print(\"Unique numbers in the order they appeared:\", ' '.join(map(str, unique_numbers_in_order)))"
   ]
  },
  {
   "cell_type": "code",
   "execution_count": null,
   "id": "357a23d1-92fd-4da1-9b18-99b3a2727176",
   "metadata": {},
   "outputs": [],
   "source": []
  }
 ],
 "metadata": {
  "kernelspec": {
   "display_name": "Python 3 (ipykernel)",
   "language": "python",
   "name": "python3"
  },
  "language_info": {
   "codemirror_mode": {
    "name": "ipython",
    "version": 3
   },
   "file_extension": ".py",
   "mimetype": "text/x-python",
   "name": "python",
   "nbconvert_exporter": "python",
   "pygments_lexer": "ipython3",
   "version": "3.10.11"
  }
 },
 "nbformat": 4,
 "nbformat_minor": 5
}
