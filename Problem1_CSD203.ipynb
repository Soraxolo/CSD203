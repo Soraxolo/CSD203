{
 "cells": [
  {
   "cell_type": "code",
   "execution_count": 2,
   "id": "eb5c69bc-208d-465d-9cc9-32ccf93c1f8c",
   "metadata": {},
   "outputs": [],
   "source": [
    "def find_nearest_to_average(arr):\n",
    "    if not arr:\n",
    "        return None\n",
    "    average = sum(arr) / len(arr)\n",
    "    nearest_index = 0\n",
    "    for i in range(len(arr)):\n",
    "        if abs(arr[i] - average) < abs(arr[nearest_index] - average):\n",
    "            nearest_index = i\n",
    "\n",
    "    return nearest_index"
   ]
  },
  {
   "cell_type": "code",
   "execution_count": 3,
   "id": "44481861-ea0c-4877-9d50-669fdc5e59d3",
   "metadata": {},
   "outputs": [],
   "source": [
    "def input_array():\n",
    "    while True:\n",
    "        try:\n",
    "            array = list(map(float, input(\"Enter the array elements separated by space: \").split()))\n",
    "            if not array:\n",
    "                raise ValueError(\"The array should not be empty.\")\n",
    "            return array\n",
    "        except ValueError as e:\n",
    "            print(f\"Invalid input. Please try again. Error: {e}\")"
   ]
  },
  {
   "cell_type": "code",
   "execution_count": 6,
   "id": "4e9561c6-1959-4f84-9370-6fba1ba15c9e",
   "metadata": {},
   "outputs": [
    {
     "name": "stdin",
     "output_type": "stream",
     "text": [
      "Enter the array elements separated by space:  1 2 3 4 5 6 7 8\n"
     ]
    },
    {
     "name": "stdout",
     "output_type": "stream",
     "text": [
      "Position of the element nearest to the average: 3\n"
     ]
    }
   ],
   "source": [
    "array = input_array()\n",
    "position = find_nearest_to_average(array)\n",
    "print(f\"Position of the element nearest to the average: {position}\")"
   ]
  }
 ],
 "metadata": {
  "kernelspec": {
   "display_name": "Python 3 (ipykernel)",
   "language": "python",
   "name": "python3"
  },
  "language_info": {
   "codemirror_mode": {
    "name": "ipython",
    "version": 3
   },
   "file_extension": ".py",
   "mimetype": "text/x-python",
   "name": "python",
   "nbconvert_exporter": "python",
   "pygments_lexer": "ipython3",
   "version": "3.10.11"
  }
 },
 "nbformat": 4,
 "nbformat_minor": 5
}
