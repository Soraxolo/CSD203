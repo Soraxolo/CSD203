{
 "cells": [
  {
   "cell_type": "code",
   "execution_count": null,
   "id": "811cb3d2-3490-4a98-a23b-b81c90b58bb8",
   "metadata": {},
   "outputs": [],
   "source": [
    "# WRITING EXERCISE"
   ]
  },
  {
   "cell_type": "code",
   "execution_count": 65,
   "id": "99fbe9fe-c6f3-40bd-9d9e-c7584ecd29aa",
   "metadata": {},
   "outputs": [],
   "source": [
    "class Stack:\n",
    "    def __init__(self):\n",
    "        self.stack = []\n",
    "\n",
    "    def makeEmpty(self):\n",
    "        self.stack = []\n",
    "\n",
    "    def push(self, item):\n",
    "        self.stack.append(item)\n",
    "\n",
    "    def pop(self):\n",
    "        return self.stack.pop() if not self.isEmpty() else None\n",
    "\n",
    "    def isEmpty(self):\n",
    "        return len(self.stack) == 0"
   ]
  },
  {
   "cell_type": "code",
   "execution_count": 66,
   "id": "d451cdbc-0893-4ea9-aaf3-2dc174674220",
   "metadata": {},
   "outputs": [
    {
     "name": "stdout",
     "output_type": "stream",
     "text": [
      "3\n",
      "2\n",
      "3\n",
      "5\n",
      "3\n"
     ]
    }
   ],
   "source": [
    "#Question 1\n",
    "def question1(s,x,y,z):\n",
    "    s.makeEmpty()\n",
    "    s.push(x)\n",
    "    s.push(4)\n",
    "    s.pop()\n",
    "    s.push(y)\n",
    "    s.push(3)\n",
    "    s.push(z)\n",
    "    s.pop()\n",
    "    s.push(2)\n",
    "    s.push(x)\n",
    "    while not s.isEmpty():\n",
    "        output.append(s.pop())\n",
    "s=Stack()\n",
    "x=3\n",
    "y=5\n",
    "z=2\n",
    "q1(s,x,y,z)\n",
    "\n",
    "\n"
   ]
  },
  {
   "cell_type": "code",
   "execution_count": 67,
   "id": "41bdae40-8743-4793-9338-902f86a15e96",
   "metadata": {},
   "outputs": [
    {
     "name": "stdout",
     "output_type": "stream",
     "text": [
      "5\n",
      "x =  3\n",
      "y =  5\n"
     ]
    }
   ],
   "source": [
    "#Question 2\n",
    "def question2(x,y):\n",
    "    s.makeEmpty()\n",
    "    s.push(5) \n",
    "    s.push(7) \n",
    "    s.pop()\n",
    "    x += y\n",
    "    s.pop()\n",
    "    s.push(x) \n",
    "    s.push(y) \n",
    "    s.push(2) \n",
    "    s.pop() \n",
    "    s.pop()\n",
    "    while not s.isEmpty( ):\n",
    "        y = s.pop()\n",
    "print(y)\n",
    "print('x = ', x)\n",
    "print('y = ', y)"
   ]
  },
  {
   "cell_type": "code",
   "execution_count": 68,
   "id": "0c9690d9-5a68-4841-8637-eec3384a232a",
   "metadata": {},
   "outputs": [
    {
     "data": {
      "text/plain": [
       "'S Y E U Q T S A O N I E'"
      ]
     },
     "execution_count": 68,
     "metadata": {},
     "output_type": "execute_result"
    }
   ],
   "source": [
    "#Question 3\n",
    "def question3(sequence, stack):\n",
    "    output = []\n",
    "\n",
    "    for char in sequence:\n",
    "        if char.isalpha():\n",
    "            stack.push(char)\n",
    "        elif char == '*':\n",
    "            popped_item = stack.pop()\n",
    "            if popped_item is not None:\n",
    "                output.append(popped_item)\n",
    "\n",
    "    return ' '.join(output)\n",
    "stack = Stack()\n",
    "sequence = \"E A S * Y * Q U E * * * S T * * * I O * N * * *\"\n",
    "question3(sequence, stack)"
   ]
  },
  {
   "cell_type": "code",
   "execution_count": 69,
   "id": "d0295975-d37f-499a-93ef-69ec897cd078",
   "metadata": {},
   "outputs": [
    {
     "data": {
      "text/plain": [
       "['L', 'A', 'S', None, None]"
      ]
     },
     "execution_count": 69,
     "metadata": {},
     "output_type": "execute_result"
    }
   ],
   "source": [
    "#Question 4\n",
    "def question4(sequence):\n",
    "    stack = []\n",
    "    for op in sequence:\n",
    "        if op.isalpha():  # Push operation\n",
    "            stack.append(op)\n",
    "        elif op == '*':  # Pop operation\n",
    "            if stack:\n",
    "                stack.pop()\n",
    "\n",
    "    # Extract the first five elements of the stack, if available\n",
    "    return [stack[i] if i < len(stack) else None for i in range(5)]\n",
    "\n",
    "# Given sequence of operations\n",
    "sequence = \"L A S T I N * F I R * S T * * * * O U * T * * * *\"\n",
    "question4(sequence)"
   ]
  },
  {
   "cell_type": "code",
   "execution_count": 70,
   "id": "08bd89ef-601f-4753-9efd-5086f44ac7c6",
   "metadata": {},
   "outputs": [
    {
     "data": {
      "text/plain": [
       "['L']"
      ]
     },
     "execution_count": 70,
     "metadata": {},
     "output_type": "execute_result"
    }
   ],
   "source": [
    "#Question 5\n",
    "def question5(sequence):\n",
    "    stack = []\n",
    "    for op in sequence:\n",
    "        if op.isalpha(): \n",
    "            stack.append(op)\n",
    "        elif op == '*': \n",
    "            if stack:\n",
    "                stack.pop()\n",
    "    return stack\n",
    "correct_sequence = \"L A * S T I * N * F I R * S T * * O U * T * * * * * *\"\n",
    "final_content = question5(correct_sequence)\n",
    "\n",
    "final_content "
   ]
  },
  {
   "cell_type": "code",
   "execution_count": 71,
   "id": "f8206ccf-aa7f-474e-a0da-f14551b09220",
   "metadata": {},
   "outputs": [
    {
     "data": {
      "text/plain": [
       "[]"
      ]
     },
     "execution_count": 71,
     "metadata": {},
     "output_type": "execute_result"
    }
   ],
   "source": [
    "#Question 6\n",
    "def question6(sequence):\n",
    "    sequence=sequence.split()\n",
    "    question6=Queue()\n",
    "    res=[]\n",
    "    for letter in sequence:\n",
    "        if letter.isalpha():\n",
    "            question6.enqueue(letter)\n",
    "        else:\n",
    "            res.append(question6.dequeue())\n",
    "    print(*res)\n",
    "sequence='E A S * Y * Q U E * * * S T * * * I O * N * * *'\n",
    "question5(sequence)"
   ]
  },
  {
   "cell_type": "code",
   "execution_count": 72,
   "id": "66c5b484-f009-44ad-8fc1-c72497810878",
   "metadata": {},
   "outputs": [
    {
     "data": {
      "text/plain": [
       "[]"
      ]
     },
     "execution_count": 72,
     "metadata": {},
     "output_type": "execute_result"
    }
   ],
   "source": [
    "class Queue:\n",
    "    def __init__(self):\n",
    "        self.q = []\n",
    "\n",
    "    def is_Empty(self):\n",
    "        return self.q == []\n",
    "\n",
    "    def enqueue(self, x):\n",
    "        if len(self.q) < 5:  \n",
    "            self.q.append(x)\n",
    "\n",
    "    def dequeue(self):\n",
    "        if not self.is_Empty():\n",
    "            return self.q.pop(0)\n",
    "\n",
    "queue = Queue()\n",
    "\n",
    "sequence = \"E A S * Y * Q U E * * * S T * * * I O * N * * *\"\n",
    "for op in sequence:\n",
    "    if op.isalpha():\n",
    "        queue.enqueue(op)\n",
    "    elif op == '*':\n",
    "        queue.dequeue()\n",
    "final_queue_contents = queue.q[:5]\n",
    "final_queue_contents\n"
   ]
  },
  {
   "cell_type": "code",
   "execution_count": 73,
   "id": "4392ec14-7f45-4c1c-b9d0-1fc981c8ee2c",
   "metadata": {},
   "outputs": [],
   "source": [
    "# PRACTICAL EXERCISES"
   ]
  },
  {
   "cell_type": "code",
   "execution_count": 74,
   "id": "42cadfce-b812-44ec-8d3c-40c924cc7db6",
   "metadata": {},
   "outputs": [
    {
     "name": "stdout",
     "output_type": "stream",
     "text": [
      "Top element: 3\n",
      "3 2 1 \n",
      "Binary representation of 6 is 110\n"
     ]
    }
   ],
   "source": [
    "#Question 1\n",
    "class Stack:\n",
    "    def __init__(self):\n",
    "        self.stack_ = []\n",
    "\n",
    "    def isEmpty(self):\n",
    "        return len(self.stack_) == 0\n",
    "\n",
    "    def clear(self):\n",
    "        self.stack_ = []\n",
    "\n",
    "    def push(self, x):\n",
    "        self.stack_.append(x)\n",
    "\n",
    "    def pop(self):\n",
    "        if self.isEmpty():\n",
    "            print('Stack is Empty')\n",
    "            return None\n",
    "        else:\n",
    "            return self.stack_.pop()\n",
    "\n",
    "    def top(self):\n",
    "        if self.isEmpty():\n",
    "            print('Stack is Empty')\n",
    "            return None\n",
    "        else:\n",
    "            return self.stack_[-1]\n",
    "\n",
    "    def traverse(self):\n",
    "        for i in range(len(self.stack_) - 1, -1, -1):\n",
    "            print(self.stack_[i], end=' ')\n",
    "        print()\n",
    "\n",
    "def convert_to_binary(n):\n",
    "    s = Stack()\n",
    "    while n:\n",
    "        remainder = n % 2\n",
    "        s.push(remainder)\n",
    "        n //= 2\n",
    "    binary = \"\"\n",
    "    while not s.isEmpty():\n",
    "        binary += str(s.pop())\n",
    "    return binary\n",
    "\n",
    "stack = Stack()\n",
    "stack.push(1)\n",
    "stack.push(2)\n",
    "stack.push(3)\n",
    "print(\"Top element:\", stack.top())\n",
    "stack.traverse()\n",
    "\n",
    "binary_number = convert_to_binary(6)\n",
    "print(f\"Binary representation of 6 is {binary_number}\")\n",
    "\n"
   ]
  },
  {
   "cell_type": "code",
   "execution_count": 75,
   "id": "8c51b64d-9d9c-41bd-8f6b-cfba38d25f19",
   "metadata": {},
   "outputs": [
    {
     "name": "stdout",
     "output_type": "stream",
     "text": [
      "1 2 3 \n",
      "Dequeued: 1\n",
      "2 3 \n",
      "Binary representation of 0.625 is 0.101\n"
     ]
    }
   ],
   "source": [
    "#Question 2\n",
    "class Queue:\n",
    "    def __init__(self):\n",
    "        self.items = []\n",
    "\n",
    "    def isEmpty(self):\n",
    "        return len(self.items) == 0\n",
    "\n",
    "    def enqueue(self, item):\n",
    "        self.items.append(item)\n",
    "\n",
    "    def dequeue(self):\n",
    "        if self.isEmpty():\n",
    "            raise Exception(\"Queue is empty\")\n",
    "        return self.items.pop(0)\n",
    "\n",
    "    def first(self):\n",
    "        if self.isEmpty():\n",
    "            raise Exception(\"Queue is empty\")\n",
    "        return self.items[0]\n",
    "\n",
    "    def traverse(self):\n",
    "        for item in self.items:\n",
    "            print(item, end=' ')\n",
    "        print()\n",
    "\n",
    "def decimal_to_binary_fraction(decimal_number):\n",
    "    if not (0 < decimal_number < 1):\n",
    "        return \"Error: Number must be between 0 and 1\"\n",
    "\n",
    "    binary_number = \"0.\"\n",
    "    queue = Queue()\n",
    "\n",
    "    while decimal_number > 0:\n",
    "        decimal_number *= 2\n",
    "        bit = int(decimal_number)\n",
    "        queue.enqueue(bit)\n",
    "        decimal_number -= bit\n",
    "\n",
    "        if len(binary_number) > 32: \n",
    "            break\n",
    "\n",
    "    while not queue.isEmpty():\n",
    "        binary_number += str(queue.dequeue())\n",
    "    \n",
    "    return binary_number\n",
    "\n",
    " \n",
    "def main_decimal_to_binary():\n",
    "    queue = Queue()\n",
    "    queue.enqueue(1)\n",
    "    queue.enqueue(2)\n",
    "    queue.enqueue(3)\n",
    "    queue.traverse()\n",
    "    print(\"Dequeued:\", queue.dequeue())\n",
    "    queue.traverse()\n",
    "\n",
    "    \n",
    "    decimal_fraction = 0.625\n",
    "    binary_representation = decimal_to_binary_fraction(decimal_fraction)\n",
    "    print(f\"Binary representation of {decimal_fraction} is {binary_representation}\")\n",
    "\n",
    "if __name__ == \"__main__\":\n",
    "    main_decimal_to_binary()\n"
   ]
  },
  {
   "cell_type": "code",
   "execution_count": 76,
   "id": "c0f2b3fd-6ee1-4c30-b728-a185ffe51925",
   "metadata": {},
   "outputs": [
    {
     "name": "stdout",
     "output_type": "stream",
     "text": [
      "Testing Stack with Strings\n",
      "Top element: Python\n",
      "Python World Hello \n",
      "Popped: Python\n",
      "World Hello \n",
      "\n",
      "Testing Queue with Strings\n",
      "First element: First\n",
      "First Second Third \n",
      "Dequeued: First\n",
      "Second Third \n"
     ]
    }
   ],
   "source": [
    "#Question 3\n",
    "def main_string():\n",
    "    print(\"Testing Stack with Strings\")\n",
    "    stack = Stack()\n",
    "    stack.push(\"Hello\")\n",
    "    stack.push(\"World\")\n",
    "    stack.push(\"Python\")\n",
    "    print(\"Top element:\", stack.top())\n",
    "    stack.traverse()\n",
    "    print(\"Popped:\", stack.pop())\n",
    "    stack.traverse()\n",
    "\n",
    "    print(\"\\nTesting Queue with Strings\")\n",
    "    queue = Queue()\n",
    "    queue.enqueue(\"First\")\n",
    "    queue.enqueue(\"Second\")\n",
    "    queue.enqueue(\"Third\")\n",
    "    print(\"First element:\", queue.first())\n",
    "    queue.traverse()\n",
    "    print(\"Dequeued:\", queue.dequeue())\n",
    "    queue.traverse()\n",
    "\n",
    "main_string()\n",
    "\n"
   ]
  },
  {
   "cell_type": "code",
   "execution_count": 77,
   "id": "1ef38970-a0f2-433d-b846-d45addeb6117",
   "metadata": {},
   "outputs": [
    {
     "name": "stdout",
     "output_type": "stream",
     "text": [
      "Testing Stack with Characters\n",
      "Top element: C\n",
      "C B A \n",
      "Popped: C\n",
      "B A \n",
      "\n",
      "Testing Queue with Characters\n",
      "First element: X\n",
      "X Y Z \n",
      "Dequeued: X\n",
      "Y Z \n"
     ]
    }
   ],
   "source": [
    "#Question 4\n",
    "def main_character():\n",
    "    print(\"Testing Stack with Characters\")\n",
    "    stack = Stack()\n",
    "    stack.push('A')\n",
    "    stack.push('B')\n",
    "    stack.push('C')\n",
    "    print(\"Top element:\", stack.top())\n",
    "    stack.traverse()\n",
    "    print(\"Popped:\", stack.pop())\n",
    "    stack.traverse()\n",
    "\n",
    "    print(\"\\nTesting Queue with Characters\")\n",
    "    queue = Queue()\n",
    "    queue.enqueue('X')\n",
    "    queue.enqueue('Y')\n",
    "    queue.enqueue('Z')\n",
    "    print(\"First element:\", queue.first())\n",
    "    queue.traverse()\n",
    "    print(\"Dequeued:\", queue.dequeue())\n",
    "    queue.traverse()\n",
    "\n",
    "main_character()\n"
   ]
  },
  {
   "cell_type": "code",
   "execution_count": 78,
   "id": "336aff54-bfe2-4c72-ac5c-619d379e6e87",
   "metadata": {},
   "outputs": [
    {
     "name": "stdout",
     "output_type": "stream",
     "text": [
      "Testing Stack with Computer Objects\n",
      "Top element: Computer2\n",
      "Computer2 Computer1 \n",
      "Popped: Computer2\n",
      "Computer1 \n",
      "\n",
      "Testing Queue with Computer Objects\n",
      "First element: ComputerA\n",
      "ComputerA ComputerB \n",
      "Dequeued: ComputerA\n",
      "ComputerB \n"
     ]
    }
   ],
   "source": [
    "#Question 5\n",
    "class Computer:\n",
    "    def __init__(self, name):\n",
    "        self.name = name\n",
    "\n",
    "    def __str__(self):\n",
    "        return self.name\n",
    "def main_object():\n",
    "    print(\"Testing Stack with Computer Objects\")\n",
    "    computer_stack = Stack()\n",
    "    computer_stack.push(Computer(\"Computer1\"))\n",
    "    computer_stack.push(Computer(\"Computer2\"))\n",
    "    print(\"Top element:\", computer_stack.top())\n",
    "    computer_stack.traverse()\n",
    "    print(\"Popped:\", computer_stack.pop())\n",
    "    computer_stack.traverse()\n",
    "\n",
    "    print(\"\\nTesting Queue with Computer Objects\")\n",
    "    computer_queue = Queue()\n",
    "    computer_queue.enqueue(Computer(\"ComputerA\"))\n",
    "    computer_queue.enqueue(Computer(\"ComputerB\"))\n",
    "    print(\"First element:\", computer_queue.first())\n",
    "    computer_queue.traverse()\n",
    "    print(\"Dequeued:\", computer_queue.dequeue())\n",
    "    computer_queue.traverse()\n",
    "\n",
    "main_object()\n"
   ]
  }
 ],
 "metadata": {
  "kernelspec": {
   "display_name": "Python 3 (ipykernel)",
   "language": "python",
   "name": "python3"
  },
  "language_info": {
   "codemirror_mode": {
    "name": "ipython",
    "version": 3
   },
   "file_extension": ".py",
   "mimetype": "text/x-python",
   "name": "python",
   "nbconvert_exporter": "python",
   "pygments_lexer": "ipython3",
   "version": "3.10.13"
  }
 },
 "nbformat": 4,
 "nbformat_minor": 5
}
